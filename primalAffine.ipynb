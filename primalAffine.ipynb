{
 "cells": [
  {
   "cell_type": "code",
   "execution_count": 26,
   "metadata": {},
   "outputs": [],
   "source": [
    "#El kolli montassar \n",
    "#matricule : 20137575\n",
    "#2 algorithme primal affine \n",
    "#3 probleme du fermier \n",
    "using LinearAlgebra\n",
    "using JuMP, Clp"
   ]
  },
  {
   "cell_type": "code",
   "execution_count": 27,
   "metadata": {},
   "outputs": [
    {
     "data": {
      "text/plain": [
       "interiorPoint(0, 1000, Any[])"
      ]
     },
     "execution_count": 27,
     "metadata": {},
     "output_type": "execute_result"
    }
   ],
   "source": [
    "#exercie2 : algorithme primal affine julia  \n",
    "mutable struct interiorPoint\n",
    "    z::Int64 # numéro de l'itération à laquelle on est rendu\n",
    "    Z::Int64 # nombre maximal d'itérations\n",
    "    x::Vector # valeur de la solution courante\n",
    "end\n",
    "primalAffine = interiorPoint(0, 1000,[])"
   ]
  },
  {
   "cell_type": "code",
   "execution_count": 28,
   "metadata": {},
   "outputs": [],
   "source": [
    "function (primalAffine::interiorPoint)(x0::Vector, c::Vector, A::Matrix, b::Vector,\n",
    "                                          e::Float64 = 1e-6)\n",
    "\n",
    "    \n",
    "    primalAffine.x = copy(x0)\n",
    "    n= length(primalAffine.x)\n",
    "    \n",
    "    obj = dot(c,primalAffine.x)\n",
    "    deltac = abs(obj)+2\n",
    "    deltax=Inf*ones(n)\n",
    "    \n",
    "    Y=0.995 \n",
    "    z = 0  \n",
    "    Z = 1000    #condition d'arret\n",
    "   \n",
    "    while((z < Z) && ( deltac > e * max(abs(obj), 1))) \n",
    "        z += 1   \n",
    "        X = diagm(primalAffine.x)\n",
    "        deltax = -(I-(A*X)'*(((A*X)*(A*X)')\\(A*X)))*X*c   #trouver le delta x  \n",
    "        \n",
    "    \n",
    "        i = 0\n",
    "        xi = 0\n",
    "        for j = 1:n\n",
    "            if -deltax[j] > xi\n",
    "                xi = - deltax[j]\n",
    "                i = j \n",
    "            end\n",
    "        end\n",
    "        if (i == 0 ) \n",
    "            println(\"Problem non borné: ! \")\n",
    "            break;\n",
    "        end\n",
    "        a = Y/xi\n",
    "        newx = primalAffine.x+a*X*deltax\n",
    "        newobj = dot(c,newx)\n",
    "        deltac = obj - newobj\n",
    "        obj = newobj\n",
    "        primalAffine.x = newx\n",
    "       \n",
    "    end\n",
    "end"
   ]
  },
  {
   "cell_type": "code",
   "execution_count": 29,
   "metadata": {},
   "outputs": [
    {
     "data": {
      "text/plain": [
       "4-element Array{Float64,1}:\n",
       " 0.5000000015140852\n",
       " 1.4999999877825996\n",
       " 0.0\n",
       " 6.24999999999994e-10"
      ]
     },
     "execution_count": 29,
     "metadata": {},
     "output_type": "execute_result"
    }
   ],
   "source": [
    "#resolution du probleme de l'exercice2 avec l'algorithme primal affine vu en classe\n",
    "\n",
    "c = [-1; -2; 0; 0]\n",
    "A = [1 1 1 0;\n",
    "     -1 1 0 1]\n",
    "b = [2; 1]\n",
    "x0 = [1; 1; 0; 1]\n",
    "primalAffine(x0, c, A, b)\n",
    "primalAffine.x"
   ]
  },
  {
   "cell_type": "code",
   "execution_count": 30,
   "metadata": {},
   "outputs": [],
   "source": [
    "#donc les solution pour notre probleme sont x1 = 0.5 , x2 = 1.5  et Z= 0.5 + 2*1.5 = 3.5 "
   ]
  },
  {
   "cell_type": "code",
   "execution_count": 31,
   "metadata": {},
   "outputs": [
    {
     "data": {
      "text/plain": [
       "5-element Array{Int64,1}:\n",
       "  500\n",
       "  200\n",
       "  240\n",
       "    0\n",
       " 6000"
      ]
     },
     "execution_count": 31,
     "metadata": {},
     "output_type": "execute_result"
    }
   ],
   "source": [
    "#resolution du probleme de du fermier avec l'algorithme primal affine vu en classe\n",
    "#matrice du probleme sous la forme standard\n",
    "c = [150 ; 230 ; 260 ; 238 ; 210 ; -170 ; -150 ; -36 ; -10 ; 0 ; 0 ; 0 ; 0 ; 0]\n",
    "A = [1 1 1 0 0 0 0 0 0 1 0 0 0 0 ; \n",
    "     2.5 0 0 1 0 -1 0 0 0 0 -1 0 0 0 ;\n",
    "     0 3 0 0 1 0 -1 0 0 0 0 -1 0 0 ;\n",
    "     0 0 -20 0 0 0 0 1 1 0 0 0 1 0;\n",
    "     0 0 0 0 0 0 0 1 0 0 0 0 0 1]\n",
    "b = [500 ; 200 ; 240 ; 0 ; 6000]"
   ]
  },
  {
   "cell_type": "code",
   "execution_count": 32,
   "metadata": {},
   "outputs": [
    {
     "data": {
      "text/plain": [
       "9-element Array{Int64,1}:\n",
       " 100\n",
       " 100\n",
       " 100\n",
       "  50\n",
       "  50\n",
       "  50\n",
       "  50\n",
       " 500\n",
       " 500"
      ]
     },
     "execution_count": 32,
     "metadata": {},
     "output_type": "execute_result"
    }
   ],
   "source": [
    "x0 = [100 ; 100 ; 100 ; 50 ; 50 ; 50 ; 50 ; 500 ; 500]"
   ]
  },
  {
   "cell_type": "code",
   "execution_count": 33,
   "metadata": {},
   "outputs": [
    {
     "data": {
      "text/plain": [
       "5-element Array{Float64,1}:\n",
       "  -200.0\n",
       "    50.0\n",
       "    60.0\n",
       " -1000.0\n",
       " -5500.0"
      ]
     },
     "execution_count": 33,
     "metadata": {},
     "output_type": "execute_result"
    }
   ],
   "source": [
    "A[:,1:9]*x0-b"
   ]
  },
  {
   "cell_type": "code",
   "execution_count": 34,
   "metadata": {},
   "outputs": [
    {
     "data": {
      "text/plain": [
       "14-element Array{Int64,1}:\n",
       "  100\n",
       "  100\n",
       "  100\n",
       "   50\n",
       "   50\n",
       "   50\n",
       "   50\n",
       "  500\n",
       "  500\n",
       "  200\n",
       "   50\n",
       "   60\n",
       " 1000\n",
       " 5500"
      ]
     },
     "execution_count": 34,
     "metadata": {},
     "output_type": "execute_result"
    }
   ],
   "source": [
    "x0 = [x0 ; 200 ; 50 ; 60 ; 1000 ; 5500]"
   ]
  },
  {
   "cell_type": "code",
   "execution_count": 35,
   "metadata": {},
   "outputs": [],
   "source": [
    "primalAffine(x0, c, A, b)"
   ]
  },
  {
   "cell_type": "code",
   "execution_count": 36,
   "metadata": {},
   "outputs": [
    {
     "data": {
      "text/plain": [
       "14-element Array{Float64,1}:\n",
       "  119.99998810610988\n",
       "   80.0000215960843\n",
       "  299.9999901045849\n",
       "    1.6127271609297502e-5\n",
       "    1.0893358795261785e-5\n",
       "   99.99998584741634\n",
       "    5.829926195394697e-5\n",
       " 5999.999479600694\n",
       "    0.00027204786197936075\n",
       "    1.059335855282812e-6\n",
       "    6.146273179931968e-7\n",
       "    1.7113391368395533e-5\n",
       "    6.199823289310679e-5\n",
       "    0.0005376781443152195"
      ]
     },
     "execution_count": 36,
     "metadata": {},
     "output_type": "execute_result"
    }
   ],
   "source": [
    "primalAffine.x"
   ]
  },
  {
   "cell_type": "code",
   "execution_count": 37,
   "metadata": {},
   "outputs": [],
   "source": [
    "#les solution du probleme sont : (120 , 80 , 300) partie de terre alloué pour chaque plante ble , mais , betrave \n",
    "#solution optimale"
   ]
  },
  {
   "cell_type": "code",
   "execution_count": null,
   "metadata": {},
   "outputs": [],
   "source": []
  },
  {
   "cell_type": "code",
   "execution_count": null,
   "metadata": {},
   "outputs": [],
   "source": []
  },
  {
   "cell_type": "code",
   "execution_count": null,
   "metadata": {},
   "outputs": [],
   "source": []
  }
 ],
 "metadata": {
  "kernelspec": {
   "display_name": "Julia 1.5.2",
   "language": "julia",
   "name": "julia-1.5"
  },
  "language_info": {
   "file_extension": ".jl",
   "mimetype": "application/julia",
   "name": "julia",
   "version": "1.5.2"
  }
 },
 "nbformat": 4,
 "nbformat_minor": 4
}
